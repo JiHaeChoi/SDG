{
 "cells": [
  {
   "cell_type": "code",
   "execution_count": 1,
   "id": "ed78afbe-a91b-4691-821f-d0e82bc2da1a",
   "metadata": {},
   "outputs": [],
   "source": [
    "import time\n",
    "import sqlite3\n",
    "import pandas as pd\n",
    "import pyarrow as pa"
   ]
  },
  {
   "cell_type": "markdown",
   "id": "f77a597f-1ae1-44bd-b007-8c902798cf0c",
   "metadata": {},
   "source": [
    "# 1. Load Data into SQLite Database. \n",
    "\n",
    "Note: Once this step is done, and the sqlite database is created, you can skip right to step 2 in the future"
   ]
  },
  {
   "cell_type": "code",
   "execution_count": 10,
   "id": "1b59d070-e5d0-4e00-9b23-95e635d2df03",
   "metadata": {},
   "outputs": [
    {
     "name": "stdout",
     "output_type": "stream",
     "text": [
      "CPU times: user 4.82 s, sys: 675 ms, total: 5.5 s\n",
      "Wall time: 29.2 s\n"
     ]
    },
    {
     "data": {
      "text/html": [
       "<div>\n",
       "<style scoped>\n",
       "    .dataframe tbody tr th:only-of-type {\n",
       "        vertical-align: middle;\n",
       "    }\n",
       "\n",
       "    .dataframe tbody tr th {\n",
       "        vertical-align: top;\n",
       "    }\n",
       "\n",
       "    .dataframe thead th {\n",
       "        text-align: right;\n",
       "    }\n",
       "</style>\n",
       "<table border=\"1\" class=\"dataframe\">\n",
       "  <thead>\n",
       "    <tr style=\"text-align: right;\">\n",
       "      <th></th>\n",
       "      <th>doi</th>\n",
       "      <th>category_sdg_code</th>\n",
       "    </tr>\n",
       "  </thead>\n",
       "  <tbody>\n",
       "    <tr>\n",
       "      <th>5791135</th>\n",
       "      <td>10.1007/978-3-319-57165-2_5</td>\n",
       "      <td>3</td>\n",
       "    </tr>\n",
       "    <tr>\n",
       "      <th>5791136</th>\n",
       "      <td>10.1080/02763869.2012.641855</td>\n",
       "      <td>4</td>\n",
       "    </tr>\n",
       "    <tr>\n",
       "      <th>5791137</th>\n",
       "      <td>10.1109/tap.2011.2163479</td>\n",
       "      <td>3</td>\n",
       "    </tr>\n",
       "    <tr>\n",
       "      <th>5791138</th>\n",
       "      <td>10.22190/jtesap1904453t</td>\n",
       "      <td>16</td>\n",
       "    </tr>\n",
       "    <tr>\n",
       "      <th>5791139</th>\n",
       "      <td>10.1177/1367549419871342</td>\n",
       "      <td>16</td>\n",
       "    </tr>\n",
       "  </tbody>\n",
       "</table>\n",
       "</div>"
      ],
      "text/plain": [
       "                                  doi  category_sdg_code\n",
       "5791135   10.1007/978-3-319-57165-2_5                  3\n",
       "5791136  10.1080/02763869.2012.641855                  4\n",
       "5791137      10.1109/tap.2011.2163479                  3\n",
       "5791138       10.22190/jtesap1904453t                 16\n",
       "5791139      10.1177/1367549419871342                 16"
      ]
     },
     "execution_count": 10,
     "metadata": {},
     "output_type": "execute_result"
    }
   ],
   "source": [
    "%%time\n",
    "\n",
    "# load doi_sdg data\n",
    "sdg = pd.read_csv('doi_sdg.csv', delimiter=',')\n",
    "sdg.doi = sdg.doi.astype(\"string\").str.lower()\n",
    "sdg.tail()"
   ]
  },
  {
   "cell_type": "code",
   "execution_count": 11,
   "id": "290f9535-bb9e-407b-8ba4-2245728b085e",
   "metadata": {},
   "outputs": [
    {
     "data": {
      "text/plain": [
       "5481839"
      ]
     },
     "execution_count": 11,
     "metadata": {},
     "output_type": "execute_result"
    }
   ],
   "source": [
    "import numpy as np\n",
    "len(np.unique(sdg.doi))"
   ]
  },
  {
   "cell_type": "code",
   "execution_count": 9,
   "id": "a058e354-c943-4fa4-b1d5-dbdf289fea02",
   "metadata": {},
   "outputs": [
    {
     "name": "stdout",
     "output_type": "stream",
     "text": [
      "CPU times: user 3min 33s, sys: 37.5 s, total: 4min 11s\n",
      "Wall time: 4min 11s\n"
     ]
    },
    {
     "data": {
      "text/html": [
       "<div>\n",
       "<style scoped>\n",
       "    .dataframe tbody tr th:only-of-type {\n",
       "        vertical-align: middle;\n",
       "    }\n",
       "\n",
       "    .dataframe tbody tr th {\n",
       "        vertical-align: top;\n",
       "    }\n",
       "\n",
       "    .dataframe thead th {\n",
       "        text-align: right;\n",
       "    }\n",
       "</style>\n",
       "<table border=\"1\" class=\"dataframe\">\n",
       "  <thead>\n",
       "    <tr style=\"text-align: right;\">\n",
       "      <th></th>\n",
       "      <th>MAGID</th>\n",
       "      <th>DOI</th>\n",
       "      <th>DocType</th>\n",
       "      <th>Year</th>\n",
       "      <th>Date</th>\n",
       "      <th>JID</th>\n",
       "      <th>ConfSID</th>\n",
       "      <th>ConfInsID</th>\n",
       "      <th>C_all</th>\n",
       "      <th>C10</th>\n",
       "      <th>R</th>\n",
       "      <th>C3</th>\n",
       "      <th>C5</th>\n",
       "      <th>NIH_count</th>\n",
       "      <th>Patent_count</th>\n",
       "      <th>Newsfeed_count</th>\n",
       "      <th>Twitter_count</th>\n",
       "      <th>NCT_count</th>\n",
       "    </tr>\n",
       "  </thead>\n",
       "  <tbody>\n",
       "    <tr>\n",
       "      <th>4</th>\n",
       "      <td>14558443</td>\n",
       "      <td>10.1007/978-3-662-45174-8_28</td>\n",
       "      <td>Conference</td>\n",
       "      <td>2014.0</td>\n",
       "      <td>2014-10-12</td>\n",
       "      <td>NaN</td>\n",
       "      <td>1.131603e+09</td>\n",
       "      <td>4038532.0</td>\n",
       "      <td>14.0</td>\n",
       "      <td>14.0</td>\n",
       "      <td>11.0</td>\n",
       "      <td>6.0</td>\n",
       "      <td>9.0</td>\n",
       "      <td>NaN</td>\n",
       "      <td>NaN</td>\n",
       "      <td>NaN</td>\n",
       "      <td>NaN</td>\n",
       "      <td>NaN</td>\n",
       "    </tr>\n",
       "    <tr>\n",
       "      <th>5</th>\n",
       "      <td>15354235</td>\n",
       "      <td>10.1007/978-3-662-44777-2_60</td>\n",
       "      <td>Conference</td>\n",
       "      <td>2014.0</td>\n",
       "      <td>2014-09-08</td>\n",
       "      <td>NaN</td>\n",
       "      <td>1.154039e+09</td>\n",
       "      <td>157008481.0</td>\n",
       "      <td>9.0</td>\n",
       "      <td>9.0</td>\n",
       "      <td>18.0</td>\n",
       "      <td>6.0</td>\n",
       "      <td>8.0</td>\n",
       "      <td>NaN</td>\n",
       "      <td>NaN</td>\n",
       "      <td>NaN</td>\n",
       "      <td>NaN</td>\n",
       "      <td>NaN</td>\n",
       "    </tr>\n",
       "    <tr>\n",
       "      <th>6</th>\n",
       "      <td>16763247</td>\n",
       "      <td>10.22004/ag.econ.174942</td>\n",
       "      <td>Repository</td>\n",
       "      <td>2014.0</td>\n",
       "      <td>2014-01-01</td>\n",
       "      <td>3.121261e+09</td>\n",
       "      <td>NaN</td>\n",
       "      <td>NaN</td>\n",
       "      <td>0.0</td>\n",
       "      <td>0.0</td>\n",
       "      <td>0.0</td>\n",
       "      <td>0.0</td>\n",
       "      <td>0.0</td>\n",
       "      <td>NaN</td>\n",
       "      <td>NaN</td>\n",
       "      <td>NaN</td>\n",
       "      <td>NaN</td>\n",
       "      <td>NaN</td>\n",
       "    </tr>\n",
       "    <tr>\n",
       "      <th>10</th>\n",
       "      <td>24327294</td>\n",
       "      <td>10.1007/978-3-319-03973-2_13</td>\n",
       "      <td>Conference</td>\n",
       "      <td>2013.0</td>\n",
       "      <td>2013-01-01</td>\n",
       "      <td>NaN</td>\n",
       "      <td>1.196984e+09</td>\n",
       "      <td>NaN</td>\n",
       "      <td>20.0</td>\n",
       "      <td>20.0</td>\n",
       "      <td>25.0</td>\n",
       "      <td>12.0</td>\n",
       "      <td>17.0</td>\n",
       "      <td>NaN</td>\n",
       "      <td>NaN</td>\n",
       "      <td>NaN</td>\n",
       "      <td>NaN</td>\n",
       "      <td>NaN</td>\n",
       "    </tr>\n",
       "    <tr>\n",
       "      <th>15</th>\n",
       "      <td>35428871</td>\n",
       "      <td>10.1023/a:1022270923160</td>\n",
       "      <td>Journal</td>\n",
       "      <td>1998.0</td>\n",
       "      <td>1998-01-01</td>\n",
       "      <td>2.016092e+08</td>\n",
       "      <td>NaN</td>\n",
       "      <td>NaN</td>\n",
       "      <td>6.0</td>\n",
       "      <td>2.0</td>\n",
       "      <td>16.0</td>\n",
       "      <td>0.0</td>\n",
       "      <td>0.0</td>\n",
       "      <td>NaN</td>\n",
       "      <td>NaN</td>\n",
       "      <td>NaN</td>\n",
       "      <td>NaN</td>\n",
       "      <td>NaN</td>\n",
       "    </tr>\n",
       "  </tbody>\n",
       "</table>\n",
       "</div>"
      ],
      "text/plain": [
       "       MAGID                           DOI     DocType    Year        Date   \n",
       "4   14558443  10.1007/978-3-662-45174-8_28  Conference  2014.0  2014-10-12  \\\n",
       "5   15354235  10.1007/978-3-662-44777-2_60  Conference  2014.0  2014-09-08   \n",
       "6   16763247       10.22004/ag.econ.174942  Repository  2014.0  2014-01-01   \n",
       "10  24327294  10.1007/978-3-319-03973-2_13  Conference  2013.0  2013-01-01   \n",
       "15  35428871       10.1023/a:1022270923160     Journal  1998.0  1998-01-01   \n",
       "\n",
       "             JID       ConfSID    ConfInsID  C_all   C10     R    C3    C5   \n",
       "4            NaN  1.131603e+09    4038532.0   14.0  14.0  11.0   6.0   9.0  \\\n",
       "5            NaN  1.154039e+09  157008481.0    9.0   9.0  18.0   6.0   8.0   \n",
       "6   3.121261e+09           NaN          NaN    0.0   0.0   0.0   0.0   0.0   \n",
       "10           NaN  1.196984e+09          NaN   20.0  20.0  25.0  12.0  17.0   \n",
       "15  2.016092e+08           NaN          NaN    6.0   2.0  16.0   0.0   0.0   \n",
       "\n",
       "    NIH_count  Patent_count  Newsfeed_count  Twitter_count  NCT_count  \n",
       "4         NaN           NaN             NaN            NaN        NaN  \n",
       "5         NaN           NaN             NaN            NaN        NaN  \n",
       "6         NaN           NaN             NaN            NaN        NaN  \n",
       "10        NaN           NaN             NaN            NaN        NaN  \n",
       "15        NaN           NaN             NaN            NaN        NaN  "
      ]
     },
     "execution_count": 9,
     "metadata": {},
     "output_type": "execute_result"
    }
   ],
   "source": [
    "%%time\n",
    "\n",
    "# load SciNet_Papers_V0-1 data\n",
    "scinet = pd.read_csv(\"SciNet_Papers_V0-1.csv\", sep=\"\\t\")\n",
    "scinet.dropna(subset=['DOI'], inplace=True)\n",
    "scinet.DOI = scinet.DOI.astype('string')\n",
    "scinet.DOI = scinet.DOI.str.lower()\n",
    "scinet.head()"
   ]
  },
  {
   "cell_type": "code",
   "execution_count": 10,
   "id": "922193a1-8463-4b54-bb81-de8abfed370e",
   "metadata": {},
   "outputs": [],
   "source": [
    "# connect to sqlite database\n",
    "con = sqlite3.connect(\"sdg.sqlite\")\n",
    "cur = con.cursor()"
   ]
  },
  {
   "cell_type": "code",
   "execution_count": null,
   "id": "615b720e-36bd-4c69-b7cc-2823293cf4a0",
   "metadata": {},
   "outputs": [],
   "source": [
    "%%time\n",
    "\n",
    "# create doi_sdg table and index\n",
    "table_name = \"doi_sdg\"\n",
    "sdg.to_sql(table_name, con, index=False)\n",
    "cur.execute(f\"create index {table_name}_idx on {table_name}(doi)\");"
   ]
  },
  {
   "cell_type": "code",
   "execution_count": null,
   "id": "fbe70a15-f4c8-46a7-bbf3-34aaee1c0522",
   "metadata": {},
   "outputs": [],
   "source": [
    "%%time\n",
    "\n",
    "# create scinet_papers table and index\n",
    "table_name = \"scinet_papers\"\n",
    "scinet.to_sql(table_name, con, index=False)\n",
    "cur.execute(f\"create index {table_name}_idx on {table_name}(doi)\");"
   ]
  },
  {
   "cell_type": "code",
   "execution_count": 15,
   "id": "b3af9774-342e-4fbc-b9ff-73efac5a4a10",
   "metadata": {},
   "outputs": [
    {
     "name": "stdout",
     "output_type": "stream",
     "text": [
      "CPU times: user 19.6 s, sys: 23.1 s, total: 42.6 s\n",
      "Wall time: 46.2 s\n"
     ]
    },
    {
     "data": {
      "text/plain": [
       "<sqlite3.Cursor at 0x2b510ca04cc0>"
      ]
     },
     "execution_count": 15,
     "metadata": {},
     "output_type": "execute_result"
    }
   ],
   "source": [
    "%%time\n",
    "\n",
    "# create doi_sdg_concat table and index\n",
    "sql = \"\"\"\n",
    "select doi, group_concat(category_sdg_code) as sdg_codes\n",
    "from doi_sdg\n",
    "group by doi\n",
    "\"\"\"\n",
    "table_name = \"doi_sdg_concat\"\n",
    "df_sdg_concat = pd.read_sql(sql, con)\n",
    "df_sdg_concat.to_sql(table_name, con, index=False)\n",
    "cur.execute(f\"create index {table_name}t_idx on {table_name}(doi)\")"
   ]
  },
  {
   "cell_type": "code",
   "execution_count": null,
   "id": "9c4e8ef7-2dae-449d-933d-4f993ac4b29d",
   "metadata": {},
   "outputs": [],
   "source": [
    "%%time\n",
    "\n",
    "# create scinet_papers_matched and index\n",
    "sql = \"\"\"\n",
    "select s.*, d.sdg_codes\n",
    "from scinet_papers as s\n",
    "inner join doi_sdg_concat as d\n",
    "on s.doi = d.doi\n",
    "\"\"\"\n",
    "table_name = \"scinet_papers_matched\"\n",
    "df_matched = pd.read_sql(sql, con)\n",
    "df_matched.to_sql(table_name, con)\n",
    "cur.execute(f\"create index {table_name}_idx on {table_name}(doi)\")"
   ]
  },
  {
   "cell_type": "markdown",
   "id": "3bef8a0f-fd5e-4cea-b7c5-ce335ff6eb0c",
   "metadata": {},
   "source": [
    "## Don't run the codes above"
   ]
  },
  {
   "cell_type": "markdown",
   "id": "1c7a7ffc-4234-47fc-a205-0b810606662e",
   "metadata": {},
   "source": [
    "# 2. Restore Table from Database"
   ]
  },
  {
   "cell_type": "code",
   "execution_count": 2,
   "id": "4536d11b-0848-4db2-8a13-b033730a9cb7",
   "metadata": {},
   "outputs": [],
   "source": [
    "import sqlite3"
   ]
  },
  {
   "cell_type": "code",
   "execution_count": 3,
   "id": "a42a880d-0af7-48f9-bb9d-1cc6f57ab4c0",
   "metadata": {},
   "outputs": [
    {
     "name": "stdout",
     "output_type": "stream",
     "text": [
      "[('doi_sdg',), ('scinet_papers',), ('doi_sdg_concat',), ('scinet_papers_matched',)]\n"
     ]
    }
   ],
   "source": [
    "import sqlite3\n",
    "con = sqlite3.connect(\"sdg.sqlite\")\n",
    "cur = con.cursor()\n",
    "cur.execute(\"SELECT name FROM sqlite_master WHERE type='table';\")\n",
    "print(cur.fetchall())"
   ]
  },
  {
   "cell_type": "markdown",
   "id": "105caf66-58f6-47b4-98c6-cba766492227",
   "metadata": {
    "tags": []
   },
   "source": [
    "**Concat: Aggregated SDG codes (list)**\n",
    "\n",
    "**SciNet_Matched: Table we are interested in**"
   ]
  },
  {
   "cell_type": "code",
   "execution_count": 43,
   "id": "798bc086-5331-4339-8dca-9c9f35b0c5a8",
   "metadata": {
    "tags": []
   },
   "outputs": [
    {
     "data": {
      "text/plain": [
       "[(0, 'index', 'INTEGER', 0, None, 0),\n",
       " (1, 'MAGID', 'INTEGER', 0, None, 0),\n",
       " (2, 'DOI', 'TEXT', 0, None, 0),\n",
       " (3, 'DocType', 'TEXT', 0, None, 0),\n",
       " (4, 'Year', 'REAL', 0, None, 0),\n",
       " (5, 'Date', 'TEXT', 0, None, 0),\n",
       " (6, 'JID', 'REAL', 0, None, 0),\n",
       " (7, 'ConfSID', 'REAL', 0, None, 0),\n",
       " (8, 'ConfInsID', 'REAL', 0, None, 0),\n",
       " (9, 'C_all', 'REAL', 0, None, 0),\n",
       " (10, 'C10', 'REAL', 0, None, 0),\n",
       " (11, 'R', 'REAL', 0, None, 0),\n",
       " (12, 'C3', 'REAL', 0, None, 0),\n",
       " (13, 'C5', 'REAL', 0, None, 0),\n",
       " (14, 'NIH_count', 'REAL', 0, None, 0),\n",
       " (15, 'Patent_count', 'REAL', 0, None, 0),\n",
       " (16, 'Newsfeed_count', 'REAL', 0, None, 0),\n",
       " (17, 'Twitter_count', 'REAL', 0, None, 0),\n",
       " (18, 'NCT_count', 'REAL', 0, None, 0),\n",
       " (19, 'sdg_codes', 'TEXT', 0, None, 0)]"
      ]
     },
     "execution_count": 43,
     "metadata": {},
     "output_type": "execute_result"
    }
   ],
   "source": [
    "cur.execute(\"PRAGMA table_info('scinet_papers_matched')\").fetchall()"
   ]
  },
  {
   "cell_type": "code",
   "execution_count": 6,
   "id": "3ab715f6-b8bb-461a-92de-a7558b6e4d82",
   "metadata": {},
   "outputs": [],
   "source": [
    "import pandas as pd"
   ]
  },
  {
   "cell_type": "code",
   "execution_count": 46,
   "id": "de0a3725-5b4c-46a1-a133-9eaa9c8e9f84",
   "metadata": {},
   "outputs": [],
   "source": [
    "df_matched2 = pd.read_sql(\"select * from scinet_papers_matched\", con)"
   ]
  },
  {
   "cell_type": "code",
   "execution_count": 49,
   "id": "fa9c48e8-f232-477c-935b-8f01c6da3b91",
   "metadata": {},
   "outputs": [
    {
     "data": {
      "text/html": [
       "<div>\n",
       "<style scoped>\n",
       "    .dataframe tbody tr th:only-of-type {\n",
       "        vertical-align: middle;\n",
       "    }\n",
       "\n",
       "    .dataframe tbody tr th {\n",
       "        vertical-align: top;\n",
       "    }\n",
       "\n",
       "    .dataframe thead th {\n",
       "        text-align: right;\n",
       "    }\n",
       "</style>\n",
       "<table border=\"1\" class=\"dataframe\">\n",
       "  <thead>\n",
       "    <tr style=\"text-align: right;\">\n",
       "      <th></th>\n",
       "      <th>index</th>\n",
       "      <th>MAGID</th>\n",
       "      <th>DOI</th>\n",
       "      <th>DocType</th>\n",
       "      <th>Year</th>\n",
       "      <th>Date</th>\n",
       "      <th>JID</th>\n",
       "      <th>ConfSID</th>\n",
       "      <th>ConfInsID</th>\n",
       "      <th>C_all</th>\n",
       "      <th>C10</th>\n",
       "      <th>R</th>\n",
       "      <th>C3</th>\n",
       "      <th>C5</th>\n",
       "      <th>NIH_count</th>\n",
       "      <th>Patent_count</th>\n",
       "      <th>Newsfeed_count</th>\n",
       "      <th>Twitter_count</th>\n",
       "      <th>NCT_count</th>\n",
       "      <th>sdg_codes</th>\n",
       "    </tr>\n",
       "  </thead>\n",
       "  <tbody>\n",
       "    <tr>\n",
       "      <th>0</th>\n",
       "      <td>0</td>\n",
       "      <td>368915168</td>\n",
       "      <td>10.4070/kcj.2015.45.3.202</td>\n",
       "      <td>Journal</td>\n",
       "      <td>2015.0</td>\n",
       "      <td>2015-05-01</td>\n",
       "      <td>1.639715e+08</td>\n",
       "      <td>NaN</td>\n",
       "      <td>NaN</td>\n",
       "      <td>67.0</td>\n",
       "      <td>67.0</td>\n",
       "      <td>49.0</td>\n",
       "      <td>24.0</td>\n",
       "      <td>55.0</td>\n",
       "      <td>NaN</td>\n",
       "      <td>NaN</td>\n",
       "      <td>NaN</td>\n",
       "      <td>NaN</td>\n",
       "      <td>NaN</td>\n",
       "      <td>3</td>\n",
       "    </tr>\n",
       "    <tr>\n",
       "      <th>1</th>\n",
       "      <td>1</td>\n",
       "      <td>1480729583</td>\n",
       "      <td>10.1017/s1365100517000293</td>\n",
       "      <td>Journal</td>\n",
       "      <td>2017.0</td>\n",
       "      <td>2017-09-06</td>\n",
       "      <td>1.367455e+08</td>\n",
       "      <td>NaN</td>\n",
       "      <td>NaN</td>\n",
       "      <td>11.0</td>\n",
       "      <td>11.0</td>\n",
       "      <td>99.0</td>\n",
       "      <td>5.0</td>\n",
       "      <td>11.0</td>\n",
       "      <td>NaN</td>\n",
       "      <td>NaN</td>\n",
       "      <td>NaN</td>\n",
       "      <td>NaN</td>\n",
       "      <td>NaN</td>\n",
       "      <td>8</td>\n",
       "    </tr>\n",
       "    <tr>\n",
       "      <th>2</th>\n",
       "      <td>2</td>\n",
       "      <td>1481854986</td>\n",
       "      <td>10.1057/9780230242234_7</td>\n",
       "      <td>Repository</td>\n",
       "      <td>2009.0</td>\n",
       "      <td>2009-01-01</td>\n",
       "      <td>3.121261e+09</td>\n",
       "      <td>NaN</td>\n",
       "      <td>NaN</td>\n",
       "      <td>0.0</td>\n",
       "      <td>0.0</td>\n",
       "      <td>3.0</td>\n",
       "      <td>0.0</td>\n",
       "      <td>0.0</td>\n",
       "      <td>NaN</td>\n",
       "      <td>NaN</td>\n",
       "      <td>NaN</td>\n",
       "      <td>NaN</td>\n",
       "      <td>NaN</td>\n",
       "      <td>7</td>\n",
       "    </tr>\n",
       "    <tr>\n",
       "      <th>3</th>\n",
       "      <td>3</td>\n",
       "      <td>1488332647</td>\n",
       "      <td>10.1109/isbmsb.2008.4536671</td>\n",
       "      <td>Conference</td>\n",
       "      <td>2008.0</td>\n",
       "      <td>2008-06-03</td>\n",
       "      <td>NaN</td>\n",
       "      <td>2.623662e+09</td>\n",
       "      <td>2.626942e+09</td>\n",
       "      <td>4.0</td>\n",
       "      <td>4.0</td>\n",
       "      <td>3.0</td>\n",
       "      <td>4.0</td>\n",
       "      <td>4.0</td>\n",
       "      <td>NaN</td>\n",
       "      <td>NaN</td>\n",
       "      <td>NaN</td>\n",
       "      <td>NaN</td>\n",
       "      <td>NaN</td>\n",
       "      <td>7</td>\n",
       "    </tr>\n",
       "    <tr>\n",
       "      <th>4</th>\n",
       "      <td>4</td>\n",
       "      <td>1500085194</td>\n",
       "      <td>10.1109/irecon.1964.1147337</td>\n",
       "      <td>Conference</td>\n",
       "      <td>1964.0</td>\n",
       "      <td>1964-01-01</td>\n",
       "      <td>NaN</td>\n",
       "      <td>2.755067e+09</td>\n",
       "      <td>NaN</td>\n",
       "      <td>2.0</td>\n",
       "      <td>2.0</td>\n",
       "      <td>0.0</td>\n",
       "      <td>2.0</td>\n",
       "      <td>2.0</td>\n",
       "      <td>NaN</td>\n",
       "      <td>NaN</td>\n",
       "      <td>NaN</td>\n",
       "      <td>NaN</td>\n",
       "      <td>NaN</td>\n",
       "      <td>7</td>\n",
       "    </tr>\n",
       "  </tbody>\n",
       "</table>\n",
       "</div>"
      ],
      "text/plain": [
       "   index       MAGID                          DOI     DocType    Year  \\\n",
       "0      0   368915168    10.4070/kcj.2015.45.3.202     Journal  2015.0   \n",
       "1      1  1480729583    10.1017/s1365100517000293     Journal  2017.0   \n",
       "2      2  1481854986      10.1057/9780230242234_7  Repository  2009.0   \n",
       "3      3  1488332647  10.1109/isbmsb.2008.4536671  Conference  2008.0   \n",
       "4      4  1500085194  10.1109/irecon.1964.1147337  Conference  1964.0   \n",
       "\n",
       "         Date           JID       ConfSID     ConfInsID  C_all   C10     R  \\\n",
       "0  2015-05-01  1.639715e+08           NaN           NaN   67.0  67.0  49.0   \n",
       "1  2017-09-06  1.367455e+08           NaN           NaN   11.0  11.0  99.0   \n",
       "2  2009-01-01  3.121261e+09           NaN           NaN    0.0   0.0   3.0   \n",
       "3  2008-06-03           NaN  2.623662e+09  2.626942e+09    4.0   4.0   3.0   \n",
       "4  1964-01-01           NaN  2.755067e+09           NaN    2.0   2.0   0.0   \n",
       "\n",
       "     C3    C5  NIH_count  Patent_count  Newsfeed_count  Twitter_count  \\\n",
       "0  24.0  55.0        NaN           NaN             NaN            NaN   \n",
       "1   5.0  11.0        NaN           NaN             NaN            NaN   \n",
       "2   0.0   0.0        NaN           NaN             NaN            NaN   \n",
       "3   4.0   4.0        NaN           NaN             NaN            NaN   \n",
       "4   2.0   2.0        NaN           NaN             NaN            NaN   \n",
       "\n",
       "   NCT_count sdg_codes  \n",
       "0        NaN         3  \n",
       "1        NaN         8  \n",
       "2        NaN         7  \n",
       "3        NaN         7  \n",
       "4        NaN         7  "
      ]
     },
     "execution_count": 49,
     "metadata": {},
     "output_type": "execute_result"
    }
   ],
   "source": [
    "df_matched2.head()"
   ]
  },
  {
   "cell_type": "code",
   "execution_count": 26,
   "id": "bb333644-be50-40fa-b34c-670bcedc3b6e",
   "metadata": {},
   "outputs": [
    {
     "data": {
      "text/plain": [
       "5032587"
      ]
     },
     "execution_count": 26,
     "metadata": {},
     "output_type": "execute_result"
    }
   ],
   "source": [
    "len(df_matched2)"
   ]
  },
  {
   "cell_type": "code",
   "execution_count": 12,
   "id": "e89b0bd0-a835-48f9-88d3-c81e9f551fb8",
   "metadata": {},
   "outputs": [
    {
     "data": {
      "text/plain": [
       "0.9180472100694675"
      ]
     },
     "execution_count": 12,
     "metadata": {},
     "output_type": "execute_result"
    }
   ],
   "source": [
    "5032587 / 5481839"
   ]
  },
  {
   "cell_type": "code",
   "execution_count": 13,
   "id": "9a3d2947-7609-4fbc-b8a3-d5951b1ddebf",
   "metadata": {},
   "outputs": [],
   "source": [
    "## About 91% of articles from SDG datasets are matched"
   ]
  },
  {
   "cell_type": "code",
   "execution_count": 38,
   "id": "5e3e7aba-5e23-4661-aeae-01f72ec98173",
   "metadata": {},
   "outputs": [
    {
     "data": {
      "text/plain": [
       "0.0375204463326804"
      ]
     },
     "execution_count": 38,
     "metadata": {},
     "output_type": "execute_result"
    }
   ],
   "source": [
    "len(df_matched2)/ len(scinet)\n",
    "## Only 3% articles are related to SDG"
   ]
  },
  {
   "cell_type": "code",
   "execution_count": 25,
   "id": "e77862cd-e2c2-4f21-83bd-7a3feebd6143",
   "metadata": {},
   "outputs": [
    {
     "data": {
      "text/html": [
       "<div>\n",
       "<style scoped>\n",
       "    .dataframe tbody tr th:only-of-type {\n",
       "        vertical-align: middle;\n",
       "    }\n",
       "\n",
       "    .dataframe tbody tr th {\n",
       "        vertical-align: top;\n",
       "    }\n",
       "\n",
       "    .dataframe thead th {\n",
       "        text-align: right;\n",
       "    }\n",
       "</style>\n",
       "<table border=\"1\" class=\"dataframe\">\n",
       "  <thead>\n",
       "    <tr style=\"text-align: right;\">\n",
       "      <th></th>\n",
       "      <th>index</th>\n",
       "      <th>MAGID</th>\n",
       "      <th>DOI</th>\n",
       "      <th>DocType</th>\n",
       "      <th>Year</th>\n",
       "      <th>Date</th>\n",
       "      <th>JID</th>\n",
       "      <th>ConfSID</th>\n",
       "      <th>ConfInsID</th>\n",
       "      <th>C_all</th>\n",
       "      <th>C10</th>\n",
       "      <th>R</th>\n",
       "      <th>C3</th>\n",
       "      <th>C5</th>\n",
       "      <th>NIH_count</th>\n",
       "      <th>Patent_count</th>\n",
       "      <th>Newsfeed_count</th>\n",
       "      <th>Twitter_count</th>\n",
       "      <th>NCT_count</th>\n",
       "      <th>sdg_codes</th>\n",
       "    </tr>\n",
       "  </thead>\n",
       "  <tbody>\n",
       "    <tr>\n",
       "      <th>19</th>\n",
       "      <td>19</td>\n",
       "      <td>1927641356</td>\n",
       "      <td>10.1007/s10584-015-1505-0</td>\n",
       "      <td>Journal</td>\n",
       "      <td>2017.0</td>\n",
       "      <td>2017-09-01</td>\n",
       "      <td>2.047995e+08</td>\n",
       "      <td>NaN</td>\n",
       "      <td>NaN</td>\n",
       "      <td>54.0</td>\n",
       "      <td>50.0</td>\n",
       "      <td>29.0</td>\n",
       "      <td>37.0</td>\n",
       "      <td>50.0</td>\n",
       "      <td>NaN</td>\n",
       "      <td>NaN</td>\n",
       "      <td>NaN</td>\n",
       "      <td>1.0</td>\n",
       "      <td>NaN</td>\n",
       "      <td>12,13</td>\n",
       "    </tr>\n",
       "    <tr>\n",
       "      <th>35</th>\n",
       "      <td>35</td>\n",
       "      <td>1976945638</td>\n",
       "      <td>10.1353/jda.2012.0025</td>\n",
       "      <td>Journal</td>\n",
       "      <td>2012.0</td>\n",
       "      <td>2012-10-01</td>\n",
       "      <td>1.456782e+07</td>\n",
       "      <td>NaN</td>\n",
       "      <td>NaN</td>\n",
       "      <td>2.0</td>\n",
       "      <td>2.0</td>\n",
       "      <td>35.0</td>\n",
       "      <td>2.0</td>\n",
       "      <td>2.0</td>\n",
       "      <td>NaN</td>\n",
       "      <td>NaN</td>\n",
       "      <td>NaN</td>\n",
       "      <td>NaN</td>\n",
       "      <td>NaN</td>\n",
       "      <td>3,10</td>\n",
       "    </tr>\n",
       "    <tr>\n",
       "      <th>48</th>\n",
       "      <td>48</td>\n",
       "      <td>1986106498</td>\n",
       "      <td>10.5296/jmr.v5i2.3266</td>\n",
       "      <td>Journal</td>\n",
       "      <td>2013.0</td>\n",
       "      <td>2013-04-07</td>\n",
       "      <td>2.764717e+09</td>\n",
       "      <td>NaN</td>\n",
       "      <td>NaN</td>\n",
       "      <td>33.0</td>\n",
       "      <td>33.0</td>\n",
       "      <td>29.0</td>\n",
       "      <td>8.0</td>\n",
       "      <td>14.0</td>\n",
       "      <td>NaN</td>\n",
       "      <td>NaN</td>\n",
       "      <td>NaN</td>\n",
       "      <td>NaN</td>\n",
       "      <td>NaN</td>\n",
       "      <td>3,8</td>\n",
       "    </tr>\n",
       "    <tr>\n",
       "      <th>109</th>\n",
       "      <td>109</td>\n",
       "      <td>2087223873</td>\n",
       "      <td>10.1016/0960-1481(96)00076-6</td>\n",
       "      <td>Journal</td>\n",
       "      <td>1997.0</td>\n",
       "      <td>1997-02-01</td>\n",
       "      <td>8.153010e+05</td>\n",
       "      <td>NaN</td>\n",
       "      <td>NaN</td>\n",
       "      <td>3.0</td>\n",
       "      <td>2.0</td>\n",
       "      <td>0.0</td>\n",
       "      <td>0.0</td>\n",
       "      <td>0.0</td>\n",
       "      <td>NaN</td>\n",
       "      <td>NaN</td>\n",
       "      <td>NaN</td>\n",
       "      <td>NaN</td>\n",
       "      <td>NaN</td>\n",
       "      <td>7,13</td>\n",
       "    </tr>\n",
       "    <tr>\n",
       "      <th>118</th>\n",
       "      <td>118</td>\n",
       "      <td>2106682816</td>\n",
       "      <td>10.17159/1727-3781/2012/v15i3a2504</td>\n",
       "      <td>Journal</td>\n",
       "      <td>2012.0</td>\n",
       "      <td>2012-01-01</td>\n",
       "      <td>2.739045e+09</td>\n",
       "      <td>NaN</td>\n",
       "      <td>NaN</td>\n",
       "      <td>3.0</td>\n",
       "      <td>3.0</td>\n",
       "      <td>7.0</td>\n",
       "      <td>1.0</td>\n",
       "      <td>2.0</td>\n",
       "      <td>NaN</td>\n",
       "      <td>NaN</td>\n",
       "      <td>NaN</td>\n",
       "      <td>NaN</td>\n",
       "      <td>NaN</td>\n",
       "      <td>5,16</td>\n",
       "    </tr>\n",
       "    <tr>\n",
       "      <th>...</th>\n",
       "      <td>...</td>\n",
       "      <td>...</td>\n",
       "      <td>...</td>\n",
       "      <td>...</td>\n",
       "      <td>...</td>\n",
       "      <td>...</td>\n",
       "      <td>...</td>\n",
       "      <td>...</td>\n",
       "      <td>...</td>\n",
       "      <td>...</td>\n",
       "      <td>...</td>\n",
       "      <td>...</td>\n",
       "      <td>...</td>\n",
       "      <td>...</td>\n",
       "      <td>...</td>\n",
       "      <td>...</td>\n",
       "      <td>...</td>\n",
       "      <td>...</td>\n",
       "      <td>...</td>\n",
       "      <td>...</td>\n",
       "    </tr>\n",
       "    <tr>\n",
       "      <th>5032526</th>\n",
       "      <td>5032526</td>\n",
       "      <td>2060816285</td>\n",
       "      <td>10.1080/00219266.2000.9655721</td>\n",
       "      <td>Journal</td>\n",
       "      <td>2000.0</td>\n",
       "      <td>2000-09-01</td>\n",
       "      <td>1.859549e+08</td>\n",
       "      <td>NaN</td>\n",
       "      <td>NaN</td>\n",
       "      <td>1.0</td>\n",
       "      <td>1.0</td>\n",
       "      <td>7.0</td>\n",
       "      <td>1.0</td>\n",
       "      <td>1.0</td>\n",
       "      <td>NaN</td>\n",
       "      <td>NaN</td>\n",
       "      <td>NaN</td>\n",
       "      <td>NaN</td>\n",
       "      <td>NaN</td>\n",
       "      <td>7,13</td>\n",
       "    </tr>\n",
       "    <tr>\n",
       "      <th>5032554</th>\n",
       "      <td>5032554</td>\n",
       "      <td>2734534492</td>\n",
       "      <td>10.5430/ijfr.v8n3p162</td>\n",
       "      <td>Journal</td>\n",
       "      <td>2017.0</td>\n",
       "      <td>2017-06-12</td>\n",
       "      <td>2.764951e+09</td>\n",
       "      <td>NaN</td>\n",
       "      <td>NaN</td>\n",
       "      <td>2.0</td>\n",
       "      <td>2.0</td>\n",
       "      <td>9.0</td>\n",
       "      <td>2.0</td>\n",
       "      <td>2.0</td>\n",
       "      <td>NaN</td>\n",
       "      <td>NaN</td>\n",
       "      <td>NaN</td>\n",
       "      <td>NaN</td>\n",
       "      <td>NaN</td>\n",
       "      <td>1,10</td>\n",
       "    </tr>\n",
       "    <tr>\n",
       "      <th>5032564</th>\n",
       "      <td>5032564</td>\n",
       "      <td>2885574959</td>\n",
       "      <td>10.5840/wcp232018511074</td>\n",
       "      <td>BookChapter</td>\n",
       "      <td>2018.0</td>\n",
       "      <td>2018-05-31</td>\n",
       "      <td>NaN</td>\n",
       "      <td>NaN</td>\n",
       "      <td>NaN</td>\n",
       "      <td>0.0</td>\n",
       "      <td>0.0</td>\n",
       "      <td>0.0</td>\n",
       "      <td>0.0</td>\n",
       "      <td>0.0</td>\n",
       "      <td>NaN</td>\n",
       "      <td>NaN</td>\n",
       "      <td>NaN</td>\n",
       "      <td>NaN</td>\n",
       "      <td>NaN</td>\n",
       "      <td>1,2</td>\n",
       "    </tr>\n",
       "    <tr>\n",
       "      <th>5032573</th>\n",
       "      <td>5032573</td>\n",
       "      <td>2994724080</td>\n",
       "      <td>10.3390/su11247179</td>\n",
       "      <td>Journal</td>\n",
       "      <td>2019.0</td>\n",
       "      <td>2019-12-01</td>\n",
       "      <td>1.013438e+07</td>\n",
       "      <td>NaN</td>\n",
       "      <td>NaN</td>\n",
       "      <td>0.0</td>\n",
       "      <td>0.0</td>\n",
       "      <td>29.0</td>\n",
       "      <td>0.0</td>\n",
       "      <td>0.0</td>\n",
       "      <td>NaN</td>\n",
       "      <td>NaN</td>\n",
       "      <td>NaN</td>\n",
       "      <td>NaN</td>\n",
       "      <td>NaN</td>\n",
       "      <td>4,11</td>\n",
       "    </tr>\n",
       "    <tr>\n",
       "      <th>5032581</th>\n",
       "      <td>5032581</td>\n",
       "      <td>3081776542</td>\n",
       "      <td>10.1175/wcas-d-20-0029.1</td>\n",
       "      <td>Journal</td>\n",
       "      <td>2020.0</td>\n",
       "      <td>2020-10-01</td>\n",
       "      <td>1.517603e+08</td>\n",
       "      <td>NaN</td>\n",
       "      <td>NaN</td>\n",
       "      <td>0.0</td>\n",
       "      <td>0.0</td>\n",
       "      <td>57.0</td>\n",
       "      <td>0.0</td>\n",
       "      <td>0.0</td>\n",
       "      <td>NaN</td>\n",
       "      <td>NaN</td>\n",
       "      <td>NaN</td>\n",
       "      <td>2.0</td>\n",
       "      <td>NaN</td>\n",
       "      <td>8,13</td>\n",
       "    </tr>\n",
       "  </tbody>\n",
       "</table>\n",
       "<p>273809 rows × 20 columns</p>\n",
       "</div>"
      ],
      "text/plain": [
       "           index       MAGID                                 DOI      DocType  \\\n",
       "19            19  1927641356           10.1007/s10584-015-1505-0      Journal   \n",
       "35            35  1976945638               10.1353/jda.2012.0025      Journal   \n",
       "48            48  1986106498               10.5296/jmr.v5i2.3266      Journal   \n",
       "109          109  2087223873        10.1016/0960-1481(96)00076-6      Journal   \n",
       "118          118  2106682816  10.17159/1727-3781/2012/v15i3a2504      Journal   \n",
       "...          ...         ...                                 ...          ...   \n",
       "5032526  5032526  2060816285       10.1080/00219266.2000.9655721      Journal   \n",
       "5032554  5032554  2734534492               10.5430/ijfr.v8n3p162      Journal   \n",
       "5032564  5032564  2885574959             10.5840/wcp232018511074  BookChapter   \n",
       "5032573  5032573  2994724080                  10.3390/su11247179      Journal   \n",
       "5032581  5032581  3081776542            10.1175/wcas-d-20-0029.1      Journal   \n",
       "\n",
       "           Year        Date           JID  ConfSID  ConfInsID  C_all   C10  \\\n",
       "19       2017.0  2017-09-01  2.047995e+08      NaN        NaN   54.0  50.0   \n",
       "35       2012.0  2012-10-01  1.456782e+07      NaN        NaN    2.0   2.0   \n",
       "48       2013.0  2013-04-07  2.764717e+09      NaN        NaN   33.0  33.0   \n",
       "109      1997.0  1997-02-01  8.153010e+05      NaN        NaN    3.0   2.0   \n",
       "118      2012.0  2012-01-01  2.739045e+09      NaN        NaN    3.0   3.0   \n",
       "...         ...         ...           ...      ...        ...    ...   ...   \n",
       "5032526  2000.0  2000-09-01  1.859549e+08      NaN        NaN    1.0   1.0   \n",
       "5032554  2017.0  2017-06-12  2.764951e+09      NaN        NaN    2.0   2.0   \n",
       "5032564  2018.0  2018-05-31           NaN      NaN        NaN    0.0   0.0   \n",
       "5032573  2019.0  2019-12-01  1.013438e+07      NaN        NaN    0.0   0.0   \n",
       "5032581  2020.0  2020-10-01  1.517603e+08      NaN        NaN    0.0   0.0   \n",
       "\n",
       "            R    C3    C5  NIH_count  Patent_count  Newsfeed_count  \\\n",
       "19       29.0  37.0  50.0        NaN           NaN             NaN   \n",
       "35       35.0   2.0   2.0        NaN           NaN             NaN   \n",
       "48       29.0   8.0  14.0        NaN           NaN             NaN   \n",
       "109       0.0   0.0   0.0        NaN           NaN             NaN   \n",
       "118       7.0   1.0   2.0        NaN           NaN             NaN   \n",
       "...       ...   ...   ...        ...           ...             ...   \n",
       "5032526   7.0   1.0   1.0        NaN           NaN             NaN   \n",
       "5032554   9.0   2.0   2.0        NaN           NaN             NaN   \n",
       "5032564   0.0   0.0   0.0        NaN           NaN             NaN   \n",
       "5032573  29.0   0.0   0.0        NaN           NaN             NaN   \n",
       "5032581  57.0   0.0   0.0        NaN           NaN             NaN   \n",
       "\n",
       "         Twitter_count  NCT_count sdg_codes  \n",
       "19                 1.0        NaN     12,13  \n",
       "35                 NaN        NaN      3,10  \n",
       "48                 NaN        NaN       3,8  \n",
       "109                NaN        NaN      7,13  \n",
       "118                NaN        NaN      5,16  \n",
       "...                ...        ...       ...  \n",
       "5032526            NaN        NaN      7,13  \n",
       "5032554            NaN        NaN      1,10  \n",
       "5032564            NaN        NaN       1,2  \n",
       "5032573            NaN        NaN      4,11  \n",
       "5032581            2.0        NaN      8,13  \n",
       "\n",
       "[273809 rows x 20 columns]"
      ]
     },
     "execution_count": 25,
     "metadata": {},
     "output_type": "execute_result"
    }
   ],
   "source": [
    "df_matched2[df_matched2.sdg_codes.apply(len)>2]"
   ]
  },
  {
   "cell_type": "code",
   "execution_count": 27,
   "id": "e7167ae4-8e05-4477-a63f-99a6b380901d",
   "metadata": {},
   "outputs": [],
   "source": [
    "from collections import Counter"
   ]
  },
  {
   "cell_type": "code",
   "execution_count": 28,
   "id": "576ae4f4-49f8-48d1-a03d-fa9b004d5179",
   "metadata": {},
   "outputs": [
    {
     "data": {
      "text/plain": [
       "Counter({'Journal': 3587356,\n",
       "         'Repository': 80867,\n",
       "         'Conference': 370715,\n",
       "         'BookChapter': 80272,\n",
       "         None: 894942,\n",
       "         'Book': 18104,\n",
       "         'Thesis': 320,\n",
       "         'Dataset': 11})"
      ]
     },
     "execution_count": 28,
     "metadata": {},
     "output_type": "execute_result"
    }
   ],
   "source": [
    "Counter(df_matched2.DocType)"
   ]
  },
  {
   "cell_type": "code",
   "execution_count": 36,
   "id": "5d596faf-b8b5-461c-a4b8-7e9eb9d31b83",
   "metadata": {},
   "outputs": [
    {
     "data": {
      "text/plain": [
       "0.7128254315325299"
      ]
     },
     "execution_count": 36,
     "metadata": {},
     "output_type": "execute_result"
    }
   ],
   "source": [
    "3587356/len(df_matched2)"
   ]
  },
  {
   "cell_type": "code",
   "execution_count": 30,
   "id": "79de8b43-558e-435b-adce-bfa824f4db04",
   "metadata": {},
   "outputs": [],
   "source": [
    "scinet = pd.read_csv(\"SciNet_Papers_V0-1.csv\", sep=\"\\t\")\n"
   ]
  },
  {
   "cell_type": "code",
   "execution_count": 32,
   "id": "37ad12e1-94ad-4b6d-b57f-a7205054a1e0",
   "metadata": {},
   "outputs": [
    {
     "data": {
      "text/plain": [
       "Counter({'Journal': 90764813,\n",
       "         'Conference': 5123597,\n",
       "         'Repository': 3083949,\n",
       "         nan: 20451018,\n",
       "         'Book': 4629342,\n",
       "         'BookChapter': 3932366,\n",
       "         'Thesis': 5998509,\n",
       "         'Dataset': 145594})"
      ]
     },
     "execution_count": 32,
     "metadata": {},
     "output_type": "execute_result"
    }
   ],
   "source": [
    "Counter(scinet.DocType)"
   ]
  },
  {
   "cell_type": "code",
   "execution_count": 34,
   "id": "5e877b48-334d-4abc-8669-450f7ccbc70a",
   "metadata": {},
   "outputs": [
    {
     "data": {
      "text/plain": [
       "0.676696954282613"
      ]
     },
     "execution_count": 34,
     "metadata": {},
     "output_type": "execute_result"
    }
   ],
   "source": [
    "90764813/len(scinet)"
   ]
  },
  {
   "cell_type": "code",
   "execution_count": null,
   "id": "02f8fc28-41ce-4d15-83e8-aab868301a92",
   "metadata": {},
   "outputs": [],
   "source": [
    "scinet."
   ]
  }
 ],
 "metadata": {
  "kernelspec": {
   "display_name": "Python 3 (ipykernel)",
   "language": "python",
   "name": "python3"
  },
  "language_info": {
   "codemirror_mode": {
    "name": "ipython",
    "version": 3
   },
   "file_extension": ".py",
   "mimetype": "text/x-python",
   "name": "python",
   "nbconvert_exporter": "python",
   "pygments_lexer": "ipython3",
   "version": "3.9.12"
  }
 },
 "nbformat": 4,
 "nbformat_minor": 5
}
